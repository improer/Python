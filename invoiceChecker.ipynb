{
 "cells": [
  {
   "cell_type": "code",
   "execution_count": 1,
   "metadata": {},
   "outputs": [],
   "source": [
    "import numpy as np\n",
    "import pandas as pd\n",
    "\n"
   ]
  },
  {
   "cell_type": "code",
   "execution_count": 2,
   "metadata": {},
   "outputs": [],
   "source": [
    "contract = .0185\n",
    "#MAKE THIS THE PREVIOUS DAY YOU NEED\n",
    "val = '2022-05-17'\n"
   ]
  },
  {
   "cell_type": "code",
   "execution_count": 3,
   "metadata": {},
   "outputs": [],
   "source": [
    "#prev = pd.read_csv('previous.csv')"
   ]
  },
  {
   "cell_type": "code",
   "execution_count": 4,
   "metadata": {},
   "outputs": [],
   "source": [
    "pp = pd.read_csv('export.csv', skiprows = 1,header = None)   \n",
    "df = pd.read_csv('invoice.csv')\n"
   ]
  },
  {
   "cell_type": "code",
   "execution_count": 5,
   "metadata": {},
   "outputs": [],
   "source": [
    "def color_negative_red(value):\n",
    "    if value < 0:\n",
    "        color = 'red'\n",
    "    elif value > 0:\n",
    "        color = 'green'\n",
    "    else:\n",
    "        color = 'black'\n",
    "\n",
    "    return 'color: %s' % color"
   ]
  },
  {
   "cell_type": "code",
   "execution_count": 6,
   "metadata": {},
   "outputs": [],
   "source": [
    "invoice = df.filter(['Invoice Number','Ship Date','Terminal Name','SCAC','Product Description','Billed Quantity','Price'], axis=1)\n",
    "\n"
   ]
  },
  {
   "cell_type": "code",
   "execution_count": 7,
   "metadata": {},
   "outputs": [],
   "source": [
    "invoice['Date'] = invoice['Ship Date'].str[:10]\n",
    "invoice['Ship Date'] = invoice['Ship Date'].str[11:]\n",
    "invoice['Ship Date'] = invoice['Ship Date'].str[:5]\n",
    "invoice['Time'] = invoice[\"Ship Date\"].str.replace(\":\",\"\")\n",
    "invoice['Time'] = invoice['Time'].astype(int)\n",
    "invoice['Time'] = invoice['Time'] - 400\n",
    "invoice = invoice.drop(columns=['Ship Date'])\n"
   ]
  },
  {
   "cell_type": "code",
   "execution_count": 8,
   "metadata": {},
   "outputs": [],
   "source": [
    "#invoice = invoice.groupby(['Invoice Number', 'Terminal Name', 'SCAC', 'Product Description','Billed Quantity','Price','Date','Time'])"
   ]
  },
  {
   "cell_type": "code",
   "execution_count": 9,
   "metadata": {},
   "outputs": [],
   "source": [
    "#invoice"
   ]
  },
  {
   "cell_type": "code",
   "execution_count": 10,
   "metadata": {},
   "outputs": [],
   "source": [
    "export = pp.filter([2,6,12,13,14,16,17,22 ], axis=1)\n",
    "export = export.rename({2: 'Company', 6: 'Terminal Name', 12: 'Product Description',13: 'Date',14: 'Time', 16:'Price', 17:'d1',22:'tax'}, axis=1)"
   ]
  },
  {
   "cell_type": "code",
   "execution_count": 11,
   "metadata": {},
   "outputs": [],
   "source": [
    "export['Date']= export['Date'].map(str)"
   ]
  },
  {
   "cell_type": "code",
   "execution_count": 12,
   "metadata": {},
   "outputs": [],
   "source": [
    "export['Year'] = export['Date'].str[:4]\n",
    "export['Date'] = export['Date'].str[4:]\n",
    "export['Day'] = export['Date'].str[2:]\n",
    "export['Month'] = export['Date'].str[:2]\n",
    "export['Date'] = export['Year'].map(str) + '-' + export['Month'].map(str) + '-' + export['Day'].map(str)\n",
    "\n"
   ]
  },
  {
   "cell_type": "code",
   "execution_count": 13,
   "metadata": {
    "scrolled": true
   },
   "outputs": [],
   "source": [
    "\n",
    "marathon = export.loc[export['Company'] == 'Marathon Unbranded']\n",
    "marathon = marathon.drop(columns=['Company'])"
   ]
  },
  {
   "cell_type": "code",
   "execution_count": 14,
   "metadata": {},
   "outputs": [],
   "source": [
    "marathon.loc[marathon['Terminal Name'] == 'Marathon Petroleum Corporation', 'Terminal Name'] = 'Vancouver, WA - MPC Terminal'\n",
    "marathon.loc[marathon['Terminal Name'] == 'Kinder Morgan Energy Partners South', 'Terminal Name'] = 'Portland, OR - Kinder Morgan Willbridge Terminal'"
   ]
  },
  {
   "cell_type": "code",
   "execution_count": 15,
   "metadata": {},
   "outputs": [],
   "source": [
    "#MPC\n",
    "marathon.loc[marathon['Product Description'] == 'ULS #2', 'Product Description'] = 'ULSD No 2'\n",
    "marathon.loc[marathon['Product Description'] == 'ULS 2 DYED', 'Product Description'] = 'ULSD No 2 Dyed'\n",
    "marathon.loc[marathon['Product Description'] == 'ULS#2 DYE B5', 'Product Description'] = 'ULSD No 2 Bio 5% Dyed'\n",
    "marathon.loc[marathon['Product Description'] == 'Conv 87 Unleaded with 10% Ethanol', 'Product Description'] = '87 Reg GHL 10% Eth 7.8'\n",
    "#Kinder\n",
    "marathon.loc[marathon['Product Description'] == 'ULS #2 B5', 'Product Description'] = 'ULSD No 2 Bio 5%'\n",
    "marathon.loc[marathon['Product Description'] == 'Conv 87 Unleaded Octane', 'Product Description'] = '87 Regular 7.8'\n",
    "\n"
   ]
  },
  {
   "cell_type": "code",
   "execution_count": 16,
   "metadata": {},
   "outputs": [],
   "source": [
    "prev = marathon"
   ]
  },
  {
   "cell_type": "code",
   "execution_count": 17,
   "metadata": {},
   "outputs": [
    {
     "name": "stderr",
     "output_type": "stream",
     "text": [
      "C:\\Users\\andrewl\\Continuum\\lib\\site-packages\\ipykernel_launcher.py:7: SettingWithCopyWarning: \n",
      "A value is trying to be set on a copy of a slice from a DataFrame.\n",
      "Try using .loc[row_indexer,col_indexer] = value instead\n",
      "\n",
      "See the caveats in the documentation: http://pandas.pydata.org/pandas-docs/stable/indexing.html#indexing-view-versus-copy\n",
      "  import sys\n",
      "C:\\Users\\andrewl\\Continuum\\lib\\site-packages\\ipykernel_launcher.py:8: SettingWithCopyWarning: \n",
      "A value is trying to be set on a copy of a slice from a DataFrame.\n",
      "Try using .loc[row_indexer,col_indexer] = value instead\n",
      "\n",
      "See the caveats in the documentation: http://pandas.pydata.org/pandas-docs/stable/indexing.html#indexing-view-versus-copy\n",
      "  \n"
     ]
    }
   ],
   "source": [
    "\n",
    "prev = prev.loc[prev['Date'] == val]\n",
    "laster = prev\n",
    "marathon = marathon.loc[marathon['Date'] == invoice.values[0][6]]\n",
    "prev =prev.drop_duplicates(subset=['Terminal Name', 'Product Description'], keep='last')\n",
    "\n",
    "prev['Time'] = '0001'\n",
    "prev['Date'] =  invoice.values[0][6]\n"
   ]
  },
  {
   "cell_type": "code",
   "execution_count": 18,
   "metadata": {},
   "outputs": [],
   "source": [
    "laster =laster.drop_duplicates(subset=['Terminal Name', 'Product Description'], keep='last')\n",
    "\n"
   ]
  },
  {
   "cell_type": "code",
   "execution_count": 19,
   "metadata": {},
   "outputs": [],
   "source": [
    "marathon = marathon.append(prev)\n",
    "marathon['Time'] = marathon['Time'].astype(int)"
   ]
  },
  {
   "cell_type": "code",
   "execution_count": 20,
   "metadata": {},
   "outputs": [],
   "source": [
    "marathon = marathon.sort_values(by=\"Time\",ascending=False)"
   ]
  },
  {
   "cell_type": "code",
   "execution_count": 21,
   "metadata": {},
   "outputs": [],
   "source": [
    "final = pd.merge(invoice, marathon, how=\"left\", on=[\"Terminal Name\", \"Product Description\"])"
   ]
  },
  {
   "cell_type": "code",
   "execution_count": 22,
   "metadata": {},
   "outputs": [],
   "source": [
    "final['Time_x'] = final['Time_x'].astype(float)"
   ]
  },
  {
   "cell_type": "code",
   "execution_count": 23,
   "metadata": {},
   "outputs": [],
   "source": [
    "final = final[final['Time_x']>final['Time_y']]"
   ]
  },
  {
   "cell_type": "code",
   "execution_count": 24,
   "metadata": {},
   "outputs": [],
   "source": [
    "final = final.sort_values(by=['Time_x','Time_y'],ascending = [False, True])"
   ]
  },
  {
   "cell_type": "code",
   "execution_count": 25,
   "metadata": {},
   "outputs": [],
   "source": [
    "final =final.drop_duplicates(subset=['Terminal Name', 'Product Description','Time_x','Billed Quantity'], keep='last')"
   ]
  },
  {
   "cell_type": "code",
   "execution_count": 26,
   "metadata": {},
   "outputs": [],
   "source": [
    "final['Discount2'] = contract"
   ]
  },
  {
   "cell_type": "code",
   "execution_count": 27,
   "metadata": {},
   "outputs": [],
   "source": [
    "final['d1'] = final['d1'].astype(float)\n",
    "final['Price_y'] = final['Price_y'].astype(float)\n",
    "final['Discount2'] = final['Discount2'].astype(float)\n",
    "final['tax'] = final['tax'].astype(float)"
   ]
  },
  {
   "cell_type": "code",
   "execution_count": 28,
   "metadata": {},
   "outputs": [],
   "source": [
    "final['Expected Price'] = final['Price_y'] - final['tax'] - final['Discount2']"
   ]
  },
  {
   "cell_type": "code",
   "execution_count": 29,
   "metadata": {},
   "outputs": [],
   "source": [
    "final['Expected Price'] = final['Expected Price'].astype(float)\n",
    "final['Price_x'] = final['Price_x'].astype(float)"
   ]
  },
  {
   "cell_type": "code",
   "execution_count": 30,
   "metadata": {},
   "outputs": [],
   "source": [
    "final['Price Difference'] = final['Expected Price'] - final['Price_x']"
   ]
  },
  {
   "cell_type": "code",
   "execution_count": 31,
   "metadata": {},
   "outputs": [],
   "source": [
    "final =final.round({'Price Difference': 6})"
   ]
  },
  {
   "cell_type": "code",
   "execution_count": 32,
   "metadata": {},
   "outputs": [],
   "source": [
    "final.rename(columns = {'Price_x':'Billed Price', 'Price_y':'Marathon Price'}, inplace = True)\n",
    "final.rename(columns = {'Price_x':'Billed Price', 'tax':'Contract'}, inplace = True)\n",
    "final.rename(columns = {'Time_x':'Time Fueled', 'Time_y':'Marathon Time','d1':'Tax'}, inplace = True)\n",
    "final.rename(columns = {'Date_x':'Date Fueled', 'Date_y':'Marathon Date'}, inplace = True)\n",
    "final = final[final['SCAC'] != 'JUDB']\n",
    "\n"
   ]
  },
  {
   "cell_type": "code",
   "execution_count": 33,
   "metadata": {},
   "outputs": [
    {
     "data": {
      "text/html": [
       "<div>\n",
       "<style scoped>\n",
       "    .dataframe tbody tr th:only-of-type {\n",
       "        vertical-align: middle;\n",
       "    }\n",
       "\n",
       "    .dataframe tbody tr th {\n",
       "        vertical-align: top;\n",
       "    }\n",
       "\n",
       "    .dataframe thead th {\n",
       "        text-align: right;\n",
       "    }\n",
       "</style>\n",
       "<table border=\"1\" class=\"dataframe\">\n",
       "  <thead>\n",
       "    <tr style=\"text-align: right;\">\n",
       "      <th></th>\n",
       "      <th>Terminal Name</th>\n",
       "    </tr>\n",
       "  </thead>\n",
       "  <tbody>\n",
       "    <tr>\n",
       "      <th>288</th>\n",
       "      <td>Vancouver, WA - MPC Terminal</td>\n",
       "    </tr>\n",
       "    <tr>\n",
       "      <th>289</th>\n",
       "      <td>Vancouver, WA - MPC Terminal</td>\n",
       "    </tr>\n",
       "    <tr>\n",
       "      <th>290</th>\n",
       "      <td>Vancouver, WA - MPC Terminal</td>\n",
       "    </tr>\n",
       "    <tr>\n",
       "      <th>291</th>\n",
       "      <td>Vancouver, WA - MPC Terminal</td>\n",
       "    </tr>\n",
       "    <tr>\n",
       "      <th>292</th>\n",
       "      <td>Vancouver, WA - MPC Terminal</td>\n",
       "    </tr>\n",
       "  </tbody>\n",
       "</table>\n",
       "</div>"
      ],
      "text/plain": [
       "                    Terminal Name\n",
       "288  Vancouver, WA - MPC Terminal\n",
       "289  Vancouver, WA - MPC Terminal\n",
       "290  Vancouver, WA - MPC Terminal\n",
       "291  Vancouver, WA - MPC Terminal\n",
       "292  Vancouver, WA - MPC Terminal"
      ]
     },
     "execution_count": 33,
     "metadata": {},
     "output_type": "execute_result"
    }
   ],
   "source": [
    "\n",
    "laster.filter(items=[\"Terminal Name\",\"Marathon Time\",\"Marathon Price\"]).head()"
   ]
  },
  {
   "cell_type": "code",
   "execution_count": 34,
   "metadata": {},
   "outputs": [],
   "source": [
    "final = final[['Invoice Number','Terminal Name','Product Description','Time Fueled','Marathon Time','Billed Price','Contract','Discount2','Marathon Price','Expected Price','Price Difference']]"
   ]
  },
  {
   "cell_type": "code",
   "execution_count": 35,
   "metadata": {},
   "outputs": [],
   "source": [
    "finder = final"
   ]
  },
  {
   "cell_type": "code",
   "execution_count": 36,
   "metadata": {},
   "outputs": [],
   "source": [
    "final = final.style.applymap(color_negative_red, subset=['Expected Price','Billed Price','Price Difference'])"
   ]
  },
  {
   "cell_type": "code",
   "execution_count": 37,
   "metadata": {},
   "outputs": [],
   "source": [
    "final.to_excel('final.xlsx', index=False)"
   ]
  }
 ],
 "metadata": {
  "kernelspec": {
   "display_name": "Python 3",
   "language": "python",
   "name": "python3"
  },
  "language_info": {
   "codemirror_mode": {
    "name": "ipython",
    "version": 3
   },
   "file_extension": ".py",
   "mimetype": "text/x-python",
   "name": "python",
   "nbconvert_exporter": "python",
   "pygments_lexer": "ipython3",
   "version": "3.7.0"
  }
 },
 "nbformat": 4,
 "nbformat_minor": 2
}
