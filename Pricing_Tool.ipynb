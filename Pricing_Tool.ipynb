{
 "cells": [
  {
   "cell_type": "markdown",
   "metadata": {},
   "source": [
    "### CODE DOES NOT COMPILE DUE TO REMOVAL OF SOME INFORMATION FOR DISPLAY PURPOSE ONLY"
   ]
  },
  {
   "cell_type": "code",
   "execution_count": null,
   "metadata": {},
   "outputs": [],
   "source": [
    "from pathlib import Path\n",
    "import pandas as pd\n",
    "import win32com.client as win32\n",
    "import requests\n",
    "import os\n",
    "import codecs\n",
    "from pretty_html_table import build_table\n",
    "import base64\n",
    "from datetime import date\n",
    "import sys"
   ]
  },
  {
   "cell_type": "code",
   "execution_count": null,
   "metadata": {},
   "outputs": [],
   "source": [
    "#This code grabs what day of the week it is\n",
    "from datetime import datetime\n",
    "waffle = datetime.today().isoweekday()"
   ]
  },
  {
   "cell_type": "code",
   "execution_count": null,
   "metadata": {},
   "outputs": [],
   "source": [
    "EXCEL_FILE_PATH = r'C:\\path./file name.xlsx'\n",
    "\n",
    "\n",
    "#Get path to attachments and double check it's working\n",
    "ATTACHMENT_DIR = Path.cwd() / \"Attachments\"\n",
    "ATTACHMENT_DIR.mkdir(exist_ok=True)"
   ]
  },
  {
   "cell_type": "code",
   "execution_count": null,
   "metadata": {},
   "outputs": [],
   "source": [
    "#Update file date here\n",
    "data = pd.read_excel(EXCEL_FILE_PATH)\n",
    "dtn = pd.read_csv('STARTING EXCEL FILE.csv', header=None) \n",
    "dtn.head(2)"
   ]
  },
  {
   "cell_type": "code",
   "execution_count": null,
   "metadata": {},
   "outputs": [],
   "source": [
    "dir = 'S:\\file path\\Attachments'\n",
    "for f in os.listdir(dir):\n",
    "    os.remove(os.path.join(dir, f))"
   ]
  },
  {
   "cell_type": "code",
   "execution_count": null,
   "metadata": {},
   "outputs": [],
   "source": [
    "if waffle != 1:\n",
    "    data = data[data.Customer != 'monday cust']"
   ]
  },
  {
   "cell_type": "code",
   "execution_count": null,
   "metadata": {
    "scrolled": false
   },
   "outputs": [],
   "source": [
    "data = data[data.Customer != 'master list']"
   ]
  },
  {
   "cell_type": "code",
   "execution_count": null,
   "metadata": {},
   "outputs": [],
   "source": [
    "dtn = dtn.drop([0,1,3,4,5,7,9,10,18,19,20,21], axis=1)\n",
    "dtn.columns =['Company', 'Location', 'State','Prod', 'Product','Date','Time','Price1','Price2','Unknown','Unknown2']"
   ]
  },
  {
   "cell_type": "code",
   "execution_count": null,
   "metadata": {},
   "outputs": [],
   "source": [
    "#Sort by oldest to newest\n",
    "dtn = dtn.sort_values(by=\"Date\", ascending=True)"
   ]
  },
  {
   "cell_type": "code",
   "execution_count": null,
   "metadata": {},
   "outputs": [],
   "source": [
    "hold = dtn[dtn.Company != 'company to be exlcuded']\n",
    "hold = dtn.loc[dtn['Company'] == 'random company']"
   ]
  },
  {
   "cell_type": "code",
   "execution_count": null,
   "metadata": {},
   "outputs": [],
   "source": [
    "dtn['Date'] = dtn.apply(lambda x: x['Date']-1 if x['Company']=='Opis Average' else x['Date'], axis=1)"
   ]
  },
  {
   "cell_type": "code",
   "execution_count": null,
   "metadata": {},
   "outputs": [],
   "source": [
    "# Gets prior day date from dtn file (top row, 5th column after drops)\n",
    "ya = hold.iat[0,5]\n",
    "dtn = dtn[dtn.Date == ya]"
   ]
  },
  {
   "cell_type": "code",
   "execution_count": null,
   "metadata": {},
   "outputs": [],
   "source": [
    "# Create Marathon and BP dfs, insert default columns for later merge\n",
    "place_one= dtn[dtn.Company != 'company to be exlcuded']\n",
    "place_one = dtn.loc[dtn['Company'] == 'place one']\n",
    "place_one.insert(11, \"Default\", 'place one', True)\n",
    "oil = dtn.loc[dtn['Location'] == 'Oil Products']\n",
    "oil.insert(11, \"Default\", 'Oil Products', True)\n",
    "place_one.head(2)"
   ]
  },
  {
   "cell_type": "code",
   "execution_count": null,
   "metadata": {},
   "outputs": [],
   "source": [
    "# Gets OPIS prices\n",
    "opis = dtn.loc[dtn['Company'] == 'OPIS Average']\n",
    "opis.insert(11, \"Default\", 'Opis', True)"
   ]
  },
  {
   "cell_type": "code",
   "execution_count": null,
   "metadata": {},
   "outputs": [],
   "source": [
    "# best price of place one and oil\n",
    "BPM = dtn.loc[(dtn['Location'] == 'Oil Products') | (dtn['Company'] == 'place one')]"
   ]
  },
  {
   "cell_type": "code",
   "execution_count": null,
   "metadata": {},
   "outputs": [],
   "source": [
    "# Create 'Best of' df\n",
    "BPM = BPM.sort_values(by=\"Price1\", ascending=True)\n",
    "BPM = BPM.drop_duplicates(subset=['State','Prod'])\n",
    "BPM.insert(11, \"Default\", 'Best of', True)\n",
    "BPM.head(2)"
   ]
  },
  {
   "cell_type": "code",
   "execution_count": null,
   "metadata": {},
   "outputs": [],
   "source": [
    "#Best of by state, only for informational purposes\n",
    "bestwa = dtn.loc[dtn['State'] == 'WA']\n",
    "bestwa =bestwa.sort_values(by=\"Price1\", ascending=True)\n",
    "bestwa = bestwa.drop_duplicates(subset=['Prod'])\n",
    "bestwa.insert(11, \"Default\", 'Bestwa', True)\n",
    "\n",
    "\n",
    "bestor = dtn.loc[dtn['State'] == 'OR']\n",
    "bestor =bestor.sort_values(by=\"Price1\", ascending=True)\n",
    "bestor = bestor.drop_duplicates(subset=['Prod'])\n",
    "bestor.insert(11, \"Default\", 'Bestor', True)"
   ]
  },
  {
   "cell_type": "code",
   "execution_count": null,
   "metadata": {},
   "outputs": [],
   "source": [
    "# Concats all dfs, prep for merge\n",
    "pdList = [place_one, oil,bestwa,bestor,BPM,opis] \n",
    "yaaa = pd.concat(pdList)"
   ]
  },
  {
   "cell_type": "code",
   "execution_count": null,
   "metadata": {},
   "outputs": [],
   "source": [
    "# Merge TNT Customer Pricing master list with concated df\n",
    "data = data.merge(yaaa, how='left', on= ['Prod','State','Default'])\n",
    "data = data.fillna(0)\n",
    "data.head(2)"
   ]
  },
  {
   "cell_type": "code",
   "execution_count": null,
   "metadata": {},
   "outputs": [],
   "source": [
    "#TCA and tax calculations (Unknown2=TCA discount)\n",
    "data['Base Price'] = data['Price1'] - data['Unknown2'] + data['Margin']\n",
    "data['State Tax'] = data['WA State Tax'] + data['WA State Env']\n",
    "data['Sales Tax'] = (data['Base Price'] * data['State Sales Rate']) + (data['Base Price'] * data['PPT Rate'])\n",
    "data['State Tax'] = data['Sales Tax'] + data['State Tax']\n",
    "data['Fed Tax'] = data['Federal Excise'] +  data['LUST'] + data['Fed Oil Spill']\n",
    "\n",
    "data = data.drop(['Price1', 'Unknown','Unknown2','Price2','Time','Date','Prod','Location','Company'], axis=1)\n",
    "data = data.drop(['Email','Default','Margin','State','Federal Excise'], axis=1)\n",
    "data = data.drop(['LUST','WA State Tax','Sales Tax','WA State Env','Fed Oil Spill','State Sales Rate','PPT Rate','Product_y'], axis=1)\n",
    "\n",
    "data.rename(columns = {'Product_x':'Product Desc'}, inplace = True)\n",
    "data['Total'] = data['Fed Tax'] + data['State Tax'] + data['Base Price']\n",
    "\n",
    "data.head(2)"
   ]
  },
  {
   "cell_type": "code",
   "execution_count": null,
   "metadata": {},
   "outputs": [],
   "source": [
    "# Details as str, remove blank details, combine prod & details\n",
    "data[\"Details\"] = \" - \"+ data[\"Details\"].astype(str)\n",
    "data.loc[(data.Details == ' - 0'),'Details']=''\n",
    "data[\"Product Desc\"] = data[\"Product Desc\"].astype(str) + data[\"Details\"].astype(str)\n",
    "data.head(1)"
   ]
  },
  {
   "cell_type": "code",
   "execution_count": null,
   "metadata": {},
   "outputs": [],
   "source": [
    "data = data.drop(['COMPANY Product','Details'], axis=1)"
   ]
  },
  {
   "cell_type": "code",
   "execution_count": null,
   "metadata": {},
   "outputs": [],
   "source": [
    "data.rename(columns = {'Base Price':'Base Price'}, inplace = True)\n",
    "data.rename(columns = {'Total':'Total Price'}, inplace = True)\n",
    "data.head(1)"
   ]
  },
  {
   "cell_type": "code",
   "execution_count": null,
   "metadata": {},
   "outputs": [],
   "source": [
    "# Create array of unique customer values\n",
    "column_name = \"Customer\"\n",
    "unique_values = data[column_name].unique()\n",
    "unique_values"
   ]
  },
  {
   "cell_type": "code",
   "execution_count": null,
   "metadata": {},
   "outputs": [],
   "source": [
    "for unique_value in unique_values:\n",
    "    data_output = data.query(f\"{column_name} == @unique_value\")\n",
    "    data_output = data_output.drop(['Customer'], axis=1)\n",
    "    data_output['Base Price'] = data_output['Base Price'].astype('float')\n",
    "    data_output['Base Price'] = ['$ {:,.3f}'.format(i) for i in list(data_output['Base Price'])]\n",
    "    data_output['State Tax'] = data_output['State Tax'].astype('float')\n",
    "    data_output['State Tax'] = ['$ {:,.3f}'.format(i) for i in list(data_output['State Tax'])]\n",
    "    data_output['Fed Tax'] = data_output['Fed Tax'].astype('float')\n",
    "    data_output['Fed Tax'] = ['$ {:,.3f}'.format(i) for i in list(data_output['Fed Tax'])]\n",
    "    data_output['Total Price'] = data_output['Total Price'].astype('float')\n",
    "    data_output['Total Price'] = ['$ {:,.3f}'.format(i) for i in list(data_output['Total Price'])]\n",
    "    \n",
    "    pretty = build_table(data_output,\n",
    "                   'red_light',\n",
    "                   width = '200',\n",
    "                    text_align='center',\n",
    "                    font_size = 'small',\n",
    "                    padding = '2px')\n",
    "    output_path = ATTACHMENT_DIR / f\"{unique_value}_2022.html\"\n",
    "    with open(output_path, 'w') as f:\n",
    "        f.write(pretty)"
   ]
  },
  {
   "cell_type": "code",
   "execution_count": null,
   "metadata": {},
   "outputs": [],
   "source": [
    "# Same as previous step but for all customers to send internally\n",
    "data['Base Price'] = data['Base Price'].astype('float')\n",
    "data['Base Price'] = ['$ {:,.3f}'.format(i) for i in list(data['Base Price'])]\n",
    "data['State Tax'] = data['State Tax'].astype('float')\n",
    "data['State Tax'] = ['$ {:,.3f}'.format(i) for i in list(data['State Tax'])]\n",
    "data['Fed Tax'] = data['Fed Tax'].astype('float')\n",
    "data['Fed Tax'] = ['$ {:,.3f}'.format(i) for i in list(data['Fed Tax'])]\n",
    "data['Total Price'] = data['Total Price'].astype('float')\n",
    "data['Total Price'] = ['$ {:,.3f}'.format(i) for i in list(data['Total Price'])]\n",
    "    \n",
    "pretty = build_table(data,\n",
    "                'red_light',\n",
    "                 width = '200',\n",
    "                 text_align='center',\n",
    "                font_size = 'small',\n",
    "                 padding = '2px')\n",
    "output_path = ATTACHMENT_DIR / f\"MASTERLIST_2022.html\"\n",
    "with open(output_path, 'w') as f:\n",
    "     f.write(pretty)"
   ]
  },
  {
   "cell_type": "markdown",
   "metadata": {},
   "source": [
    "## Slow down!"
   ]
  },
  {
   "cell_type": "code",
   "execution_count": null,
   "metadata": {},
   "outputs": [],
   "source": [
    "display(data)\n",
    "while True:\n",
    "\n",
    "    number = input(\"Do you want to continue? Y or N \")\n",
    "\n",
    "    if number == \"Y\":\n",
    "        print(\"Looks good!!\")\n",
    "        break\n",
    "    else:\n",
    "        Exit"
   ]
  },
  {
   "cell_type": "code",
   "execution_count": null,
   "metadata": {},
   "outputs": [],
   "source": [
    "#Creates email list, drops Monday only customers if not Monday\n",
    "email_list = pd.read_excel(EXCEL_FILE_PATH)\n",
    "email_list = email_list.drop_duplicates(subset=['Customer'])\n",
    "email_list\n",
    "if waffle != 1:\n",
    "    email_list = email_list[email_list.Customer != 'monday cust']"
   ]
  },
  {
   "cell_type": "code",
   "execution_count": null,
   "metadata": {},
   "outputs": [],
   "source": [
    "# Get today's date for email subject line\n",
    "today = date.today()\n",
    "d3 = today.strftime(\"%m/%d/%y\")"
   ]
  },
  {
   "cell_type": "code",
   "execution_count": null,
   "metadata": {},
   "outputs": [],
   "source": [
    "# Send emails\n",
    "outlook = win32.Dispatch(\"outlook.application\")\n",
    "for index, row in email_list.iterrows():\n",
    "    mail = outlook.CreateItem(0)\n",
    "    mail.To = row[\"Email\"]\n",
    "    #mail.CC = row[\"CC\"]\n",
    "    mail.Subject = f\"TITLE | \" + d3\n",
    "    # mail.Body = \"Message body\"\n",
    "    signatureimage = \"S:\\DIRECTORY \\LOGO.png\"\n",
    "    attachment = mail.Attachments.Add(signatureimage)\n",
    "    attachment.PropertyAccessor.SetProperty(\"http://schemas.microsoft.com/mapi/proptag/0x3712001F\", \"MyId1\")\n",
    "    attachment_path = str(ATTACHMENT_DIR / f\"{row['Customer']}_2022.html\")\n",
    "    with open (attachment_path, 'r') as file:\n",
    "        data = file.read()               \n",
    "    mail.HTMLBody =\"<b>Hello \" +row['Customer']+ data + \"<html><img src=\"\"cid:MyId1\"\"></body></html>\" \n",
    "                     \n",
    "    mail.Display()\n",
    "    \n",
    "    mail.Send()"
   ]
  },
  {
   "cell_type": "code",
   "execution_count": null,
   "metadata": {},
   "outputs": [],
   "source": []
  },
  {
   "cell_type": "code",
   "execution_count": null,
   "metadata": {},
   "outputs": [],
   "source": []
  },
  {
   "cell_type": "code",
   "execution_count": null,
   "metadata": {},
   "outputs": [],
   "source": []
  }
 ],
 "metadata": {
  "kernelspec": {
   "display_name": "Python 3",
   "language": "python",
   "name": "python3"
  },
  "language_info": {
   "codemirror_mode": {
    "name": "ipython",
    "version": 3
   },
   "file_extension": ".py",
   "mimetype": "text/x-python",
   "name": "python",
   "nbconvert_exporter": "python",
   "pygments_lexer": "ipython3",
   "version": "3.7.0"
  }
 },
 "nbformat": 4,
 "nbformat_minor": 2
}
