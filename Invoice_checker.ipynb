{
 "cells": [
  {
   "cell_type": "code",
   "execution_count": 34,
   "metadata": {},
   "outputs": [],
   "source": [
    "import numpy as np\n",
    "import pandas as pd\n",
    "\n"
   ]
  },
  {
   "cell_type": "code",
   "execution_count": 35,
   "metadata": {},
   "outputs": [],
   "source": [
    "#CSV Fully Extended 10.6 (CSV 2) IS THE ONE YOU WANT TO USE\n",
    "\n",
    "#THIS CAN ONLY DO 1 DAY OF INVOICING. SO IF YOU PULL MULTIPLE DAYS, IT WILL ONLY GO FOR THE HIGHEST\n",
    "#PARSE THE DATA IF YOU WANT TO RUN"
   ]
  },
  {
   "cell_type": "code",
   "execution_count": 36,
   "metadata": {},
   "outputs": [],
   "source": [
    "\n",
    "#THIS IS THE CONTRACT DISCOUNT PRICE IF ADJUSTMENT IS NEEDED\n",
    "contract = .0185\n",
    "#MAKE THIS THE PREVIOUS DAY YOU NEED\n",
    "val = '2022-05-17'\n",
    "\n",
    "finalfile = 'PriceDiff052522.xlsx'"
   ]
  },
  {
   "cell_type": "code",
   "execution_count": 37,
   "metadata": {},
   "outputs": [],
   "source": [
    "#prev = pd.read_csv('previous.csv')"
   ]
  },
  {
   "cell_type": "code",
   "execution_count": 38,
   "metadata": {},
   "outputs": [],
   "source": [
    "pp = pd.read_csv('export.csv', skiprows = 1,header = None)   \n",
    "df = pd.read_csv('invoice.csv')\n"
   ]
  },
  {
   "cell_type": "code",
   "execution_count": 39,
   "metadata": {},
   "outputs": [],
   "source": [
    "def color_negative_red(value):\n",
    "    if value < 0:\n",
    "        color = 'red'\n",
    "    elif value > 0:\n",
    "        color = 'green'\n",
    "    else:\n",
    "        color = 'black'\n",
    "\n",
    "    return 'color: %s' % color"
   ]
  },
  {
   "cell_type": "code",
   "execution_count": 40,
   "metadata": {},
   "outputs": [],
   "source": [
    "invoice = df.filter(['Invoice Number','Ship Date','Terminal Name','SCAC','Product Description','Billed Quantity','Price'], axis=1)\n",
    "\n"
   ]
  },
  {
   "cell_type": "code",
   "execution_count": 41,
   "metadata": {},
   "outputs": [],
   "source": [
    "invoice['Date'] = invoice['Ship Date'].str[:10]\n",
    "invoice['Ship Date'] = invoice['Ship Date'].str[11:]\n",
    "invoice['Ship Date'] = invoice['Ship Date'].str[:5]\n",
    "invoice['Time'] = invoice[\"Ship Date\"].str.replace(\":\",\"\")\n",
    "invoice['Time'] = invoice['Time'].astype(int)\n",
    "invoice['Time'] = invoice['Time'] - 400\n",
    "invoice = invoice.drop(columns=['Ship Date'])\n"
   ]
  },
  {
   "cell_type": "code",
   "execution_count": 42,
   "metadata": {},
   "outputs": [],
   "source": [
    "#invoice = invoice.groupby(['Invoice Number', 'Terminal Name', 'SCAC', 'Product Description','Billed Quantity','Price','Date','Time'])"
   ]
  },
  {
   "cell_type": "code",
   "execution_count": 43,
   "metadata": {},
   "outputs": [],
   "source": [
    "#invoice"
   ]
  },
  {
   "cell_type": "code",
   "execution_count": 44,
   "metadata": {},
   "outputs": [],
   "source": [
    "export = pp.filter([2,6,12,13,14,16,17,22 ], axis=1)\n",
    "export = export.rename({2: 'Company', 6: 'Terminal Name', 12: 'Product Description',13: 'Date',14: 'Time', 16:'Price', 17:'d1',22:'tax'}, axis=1)"
   ]
  },
  {
   "cell_type": "code",
   "execution_count": 45,
   "metadata": {},
   "outputs": [],
   "source": [
    "export['Date']= export['Date'].map(str)"
   ]
  },
  {
   "cell_type": "code",
   "execution_count": 46,
   "metadata": {},
   "outputs": [],
   "source": [
    "export['Year'] = export['Date'].str[:4]\n",
    "export['Date'] = export['Date'].str[4:]\n",
    "export['Day'] = export['Date'].str[2:]\n",
    "export['Month'] = export['Date'].str[:2]\n",
    "export['Date'] = export['Year'].map(str) + '-' + export['Month'].map(str) + '-' + export['Day'].map(str)\n",
    "\n"
   ]
  },
  {
   "cell_type": "code",
   "execution_count": 47,
   "metadata": {
    "scrolled": true
   },
   "outputs": [],
   "source": [
    "\n",
    "marathon = export.loc[export['Company'] == 'Marathon Unbranded']\n",
    "marathon = marathon.drop(columns=['Company'])"
   ]
  },
  {
   "cell_type": "code",
   "execution_count": 48,
   "metadata": {},
   "outputs": [],
   "source": [
    "marathon.loc[marathon['Terminal Name'] == 'Marathon Petroleum Corporation', 'Terminal Name'] = 'Vancouver, WA - MPC Terminal'\n",
    "marathon.loc[marathon['Terminal Name'] == 'Kinder Morgan Energy Partners South', 'Terminal Name'] = 'Portland, OR - Kinder Morgan Willbridge Terminal'"
   ]
  },
  {
   "cell_type": "code",
   "execution_count": 49,
   "metadata": {},
   "outputs": [],
   "source": [
    "#MPC\n",
    "marathon.loc[marathon['Product Description'] == 'ULS #2', 'Product Description'] = 'ULSD No 2'\n",
    "marathon.loc[marathon['Product Description'] == 'ULS 2 DYED', 'Product Description'] = 'ULSD No 2 Dyed'\n",
    "marathon.loc[marathon['Product Description'] == 'ULS#2 DYE B5', 'Product Description'] = 'ULSD No 2 Bio 5% Dyed'\n",
    "marathon.loc[marathon['Product Description'] == 'Conv 87 Unleaded with 10% Ethanol', 'Product Description'] = '87 Reg GHL 10% Eth 7.8'\n",
    "#Kinder\n",
    "marathon.loc[marathon['Product Description'] == 'ULS #2 B5', 'Product Description'] = 'ULSD No 2 Bio 5%'\n",
    "marathon.loc[marathon['Product Description'] == 'Conv 87 Unleaded Octane', 'Product Description'] = '87 Regular 7.8'\n",
    "\n"
   ]
  },
  {
   "cell_type": "code",
   "execution_count": 50,
   "metadata": {},
   "outputs": [],
   "source": [
    "prev = marathon"
   ]
  },
  {
   "cell_type": "code",
   "execution_count": 51,
   "metadata": {},
   "outputs": [
    {
     "name": "stderr",
     "output_type": "stream",
     "text": [
      "C:\\Users\\andrewl\\Continuum\\lib\\site-packages\\ipykernel_launcher.py:7: SettingWithCopyWarning: \n",
      "A value is trying to be set on a copy of a slice from a DataFrame.\n",
      "Try using .loc[row_indexer,col_indexer] = value instead\n",
      "\n",
      "See the caveats in the documentation: http://pandas.pydata.org/pandas-docs/stable/indexing.html#indexing-view-versus-copy\n",
      "  import sys\n",
      "C:\\Users\\andrewl\\Continuum\\lib\\site-packages\\ipykernel_launcher.py:8: SettingWithCopyWarning: \n",
      "A value is trying to be set on a copy of a slice from a DataFrame.\n",
      "Try using .loc[row_indexer,col_indexer] = value instead\n",
      "\n",
      "See the caveats in the documentation: http://pandas.pydata.org/pandas-docs/stable/indexing.html#indexing-view-versus-copy\n",
      "  \n"
     ]
    }
   ],
   "source": [
    "\n",
    "prev = prev.loc[prev['Date'] == val]\n",
    "laster = prev\n",
    "marathon = marathon.loc[marathon['Date'] == invoice.values[0][6]]\n",
    "prev =prev.drop_duplicates(subset=['Terminal Name', 'Product Description'], keep='last')\n",
    "\n",
    "prev['Time'] = '0001'\n",
    "prev['Date'] =  invoice.values[0][6]\n"
   ]
  },
  {
   "cell_type": "code",
   "execution_count": 52,
   "metadata": {},
   "outputs": [
    {
     "data": {
      "text/html": [
       "<div>\n",
       "<style scoped>\n",
       "    .dataframe tbody tr th:only-of-type {\n",
       "        vertical-align: middle;\n",
       "    }\n",
       "\n",
       "    .dataframe tbody tr th {\n",
       "        vertical-align: top;\n",
       "    }\n",
       "\n",
       "    .dataframe thead th {\n",
       "        text-align: right;\n",
       "    }\n",
       "</style>\n",
       "<table border=\"1\" class=\"dataframe\">\n",
       "  <thead>\n",
       "    <tr style=\"text-align: right;\">\n",
       "      <th></th>\n",
       "      <th>Terminal Name</th>\n",
       "      <th>Product Description</th>\n",
       "      <th>Date</th>\n",
       "      <th>Time</th>\n",
       "      <th>Price</th>\n",
       "      <th>d1</th>\n",
       "      <th>tax</th>\n",
       "      <th>Year</th>\n",
       "      <th>Day</th>\n",
       "      <th>Month</th>\n",
       "    </tr>\n",
       "  </thead>\n",
       "  <tbody>\n",
       "    <tr>\n",
       "      <th>288</th>\n",
       "      <td>Vancouver, WA - MPC Terminal</td>\n",
       "      <td>ULSD No 2 Bio 5% Dyed</td>\n",
       "      <td>2022-05-17</td>\n",
       "      <td>1800</td>\n",
       "      <td>4.3390</td>\n",
       "      <td>-0.0775</td>\n",
       "      <td>0.080</td>\n",
       "      <td>2022</td>\n",
       "      <td>17</td>\n",
       "      <td>05</td>\n",
       "    </tr>\n",
       "    <tr>\n",
       "      <th>289</th>\n",
       "      <td>Vancouver, WA - MPC Terminal</td>\n",
       "      <td>ULSD No 2 Bio 5%</td>\n",
       "      <td>2022-05-17</td>\n",
       "      <td>1800</td>\n",
       "      <td>4.3340</td>\n",
       "      <td>-0.0775</td>\n",
       "      <td>0.080</td>\n",
       "      <td>2022</td>\n",
       "      <td>17</td>\n",
       "      <td>05</td>\n",
       "    </tr>\n",
       "    <tr>\n",
       "      <th>290</th>\n",
       "      <td>Vancouver, WA - MPC Terminal</td>\n",
       "      <td>ULSD No 2</td>\n",
       "      <td>2022-05-17</td>\n",
       "      <td>1800</td>\n",
       "      <td>4.3340</td>\n",
       "      <td>-0.0775</td>\n",
       "      <td>0.080</td>\n",
       "      <td>2022</td>\n",
       "      <td>17</td>\n",
       "      <td>05</td>\n",
       "    </tr>\n",
       "    <tr>\n",
       "      <th>291</th>\n",
       "      <td>Vancouver, WA - MPC Terminal</td>\n",
       "      <td>ULSD No 2 Dyed</td>\n",
       "      <td>2022-05-17</td>\n",
       "      <td>1800</td>\n",
       "      <td>4.3390</td>\n",
       "      <td>-0.0775</td>\n",
       "      <td>0.080</td>\n",
       "      <td>2022</td>\n",
       "      <td>17</td>\n",
       "      <td>05</td>\n",
       "    </tr>\n",
       "    <tr>\n",
       "      <th>292</th>\n",
       "      <td>Vancouver, WA - MPC Terminal</td>\n",
       "      <td>87 Reg GHL 10% Eth 7.8</td>\n",
       "      <td>2022-05-17</td>\n",
       "      <td>1800</td>\n",
       "      <td>4.0130</td>\n",
       "      <td>-0.0250</td>\n",
       "      <td>0.060</td>\n",
       "      <td>2022</td>\n",
       "      <td>17</td>\n",
       "      <td>05</td>\n",
       "    </tr>\n",
       "    <tr>\n",
       "      <th>293</th>\n",
       "      <td>Vancouver, WA - MPC Terminal</td>\n",
       "      <td>87 Regular 7.8</td>\n",
       "      <td>2022-05-17</td>\n",
       "      <td>1800</td>\n",
       "      <td>4.4350</td>\n",
       "      <td>-0.0100</td>\n",
       "      <td>0.060</td>\n",
       "      <td>2022</td>\n",
       "      <td>17</td>\n",
       "      <td>05</td>\n",
       "    </tr>\n",
       "    <tr>\n",
       "      <th>294</th>\n",
       "      <td>Vancouver, WA - MPC Terminal</td>\n",
       "      <td>Conv 92 Premium with 10% Ethanol</td>\n",
       "      <td>2022-05-17</td>\n",
       "      <td>1800</td>\n",
       "      <td>4.3440</td>\n",
       "      <td>-0.0250</td>\n",
       "      <td>0.060</td>\n",
       "      <td>2022</td>\n",
       "      <td>17</td>\n",
       "      <td>05</td>\n",
       "    </tr>\n",
       "    <tr>\n",
       "      <th>295</th>\n",
       "      <td>Vancouver, WA - MPC Terminal</td>\n",
       "      <td>Conv 92 Premium Octane</td>\n",
       "      <td>2022-05-17</td>\n",
       "      <td>1800</td>\n",
       "      <td>4.8575</td>\n",
       "      <td>-0.0100</td>\n",
       "      <td>0.060</td>\n",
       "      <td>2022</td>\n",
       "      <td>17</td>\n",
       "      <td>05</td>\n",
       "    </tr>\n",
       "    <tr>\n",
       "      <th>296</th>\n",
       "      <td>Portland, OR - Kinder Morgan Willbridge Terminal</td>\n",
       "      <td>ULS#2 B10</td>\n",
       "      <td>2022-05-17</td>\n",
       "      <td>1800</td>\n",
       "      <td>4.3140</td>\n",
       "      <td>-0.0775</td>\n",
       "      <td>0.030</td>\n",
       "      <td>2022</td>\n",
       "      <td>17</td>\n",
       "      <td>05</td>\n",
       "    </tr>\n",
       "    <tr>\n",
       "      <th>297</th>\n",
       "      <td>Portland, OR - Kinder Morgan Willbridge Terminal</td>\n",
       "      <td>ULSD No 2 Bio 5% Dyed</td>\n",
       "      <td>2022-05-17</td>\n",
       "      <td>1800</td>\n",
       "      <td>4.3390</td>\n",
       "      <td>-0.0775</td>\n",
       "      <td>0.040</td>\n",
       "      <td>2022</td>\n",
       "      <td>17</td>\n",
       "      <td>05</td>\n",
       "    </tr>\n",
       "    <tr>\n",
       "      <th>298</th>\n",
       "      <td>Portland, OR - Kinder Morgan Willbridge Terminal</td>\n",
       "      <td>Ultra Low Sulfur #2 BIO 5% Winter Clear</td>\n",
       "      <td>2022-05-17</td>\n",
       "      <td>1800</td>\n",
       "      <td>4.3540</td>\n",
       "      <td>-0.0775</td>\n",
       "      <td>0.040</td>\n",
       "      <td>2022</td>\n",
       "      <td>17</td>\n",
       "      <td>05</td>\n",
       "    </tr>\n",
       "    <tr>\n",
       "      <th>299</th>\n",
       "      <td>Portland, OR - Kinder Morgan Willbridge Terminal</td>\n",
       "      <td>ULSD No 2 Bio 5%</td>\n",
       "      <td>2022-05-17</td>\n",
       "      <td>1800</td>\n",
       "      <td>4.3340</td>\n",
       "      <td>-0.0775</td>\n",
       "      <td>0.040</td>\n",
       "      <td>2022</td>\n",
       "      <td>17</td>\n",
       "      <td>05</td>\n",
       "    </tr>\n",
       "    <tr>\n",
       "      <th>300</th>\n",
       "      <td>Portland, OR - Kinder Morgan Willbridge Terminal</td>\n",
       "      <td>87 Reg GHL 10% Eth 7.8</td>\n",
       "      <td>2022-05-17</td>\n",
       "      <td>1800</td>\n",
       "      <td>4.0130</td>\n",
       "      <td>-0.0250</td>\n",
       "      <td>0.060</td>\n",
       "      <td>2022</td>\n",
       "      <td>17</td>\n",
       "      <td>05</td>\n",
       "    </tr>\n",
       "    <tr>\n",
       "      <th>301</th>\n",
       "      <td>Portland, OR - Kinder Morgan Willbridge Terminal</td>\n",
       "      <td>87 Regular 7.8</td>\n",
       "      <td>2022-05-17</td>\n",
       "      <td>1800</td>\n",
       "      <td>4.4350</td>\n",
       "      <td>-0.0100</td>\n",
       "      <td>0.005</td>\n",
       "      <td>2022</td>\n",
       "      <td>17</td>\n",
       "      <td>05</td>\n",
       "    </tr>\n",
       "    <tr>\n",
       "      <th>302</th>\n",
       "      <td>Portland, OR - Kinder Morgan Willbridge Terminal</td>\n",
       "      <td>Conv 89 Midgrade with 10% Ethanol</td>\n",
       "      <td>2022-05-17</td>\n",
       "      <td>1800</td>\n",
       "      <td>4.2210</td>\n",
       "      <td>-0.0250</td>\n",
       "      <td>0.060</td>\n",
       "      <td>2022</td>\n",
       "      <td>17</td>\n",
       "      <td>05</td>\n",
       "    </tr>\n",
       "    <tr>\n",
       "      <th>303</th>\n",
       "      <td>Portland, OR - Kinder Morgan Willbridge Terminal</td>\n",
       "      <td>Conv 92 Premium with 10% Ethanol</td>\n",
       "      <td>2022-05-17</td>\n",
       "      <td>1800</td>\n",
       "      <td>4.3440</td>\n",
       "      <td>-0.0250</td>\n",
       "      <td>0.060</td>\n",
       "      <td>2022</td>\n",
       "      <td>17</td>\n",
       "      <td>05</td>\n",
       "    </tr>\n",
       "  </tbody>\n",
       "</table>\n",
       "</div>"
      ],
      "text/plain": [
       "                                        Terminal Name  \\\n",
       "288                      Vancouver, WA - MPC Terminal   \n",
       "289                      Vancouver, WA - MPC Terminal   \n",
       "290                      Vancouver, WA - MPC Terminal   \n",
       "291                      Vancouver, WA - MPC Terminal   \n",
       "292                      Vancouver, WA - MPC Terminal   \n",
       "293                      Vancouver, WA - MPC Terminal   \n",
       "294                      Vancouver, WA - MPC Terminal   \n",
       "295                      Vancouver, WA - MPC Terminal   \n",
       "296  Portland, OR - Kinder Morgan Willbridge Terminal   \n",
       "297  Portland, OR - Kinder Morgan Willbridge Terminal   \n",
       "298  Portland, OR - Kinder Morgan Willbridge Terminal   \n",
       "299  Portland, OR - Kinder Morgan Willbridge Terminal   \n",
       "300  Portland, OR - Kinder Morgan Willbridge Terminal   \n",
       "301  Portland, OR - Kinder Morgan Willbridge Terminal   \n",
       "302  Portland, OR - Kinder Morgan Willbridge Terminal   \n",
       "303  Portland, OR - Kinder Morgan Willbridge Terminal   \n",
       "\n",
       "                         Product Description        Date  Time   Price  \\\n",
       "288                    ULSD No 2 Bio 5% Dyed  2022-05-17  1800  4.3390   \n",
       "289                         ULSD No 2 Bio 5%  2022-05-17  1800  4.3340   \n",
       "290                                ULSD No 2  2022-05-17  1800  4.3340   \n",
       "291                           ULSD No 2 Dyed  2022-05-17  1800  4.3390   \n",
       "292                   87 Reg GHL 10% Eth 7.8  2022-05-17  1800  4.0130   \n",
       "293                           87 Regular 7.8  2022-05-17  1800  4.4350   \n",
       "294         Conv 92 Premium with 10% Ethanol  2022-05-17  1800  4.3440   \n",
       "295                   Conv 92 Premium Octane  2022-05-17  1800  4.8575   \n",
       "296                                ULS#2 B10  2022-05-17  1800  4.3140   \n",
       "297                    ULSD No 2 Bio 5% Dyed  2022-05-17  1800  4.3390   \n",
       "298  Ultra Low Sulfur #2 BIO 5% Winter Clear  2022-05-17  1800  4.3540   \n",
       "299                         ULSD No 2 Bio 5%  2022-05-17  1800  4.3340   \n",
       "300                   87 Reg GHL 10% Eth 7.8  2022-05-17  1800  4.0130   \n",
       "301                           87 Regular 7.8  2022-05-17  1800  4.4350   \n",
       "302        Conv 89 Midgrade with 10% Ethanol  2022-05-17  1800  4.2210   \n",
       "303         Conv 92 Premium with 10% Ethanol  2022-05-17  1800  4.3440   \n",
       "\n",
       "         d1    tax  Year Day Month  \n",
       "288 -0.0775  0.080  2022  17    05  \n",
       "289 -0.0775  0.080  2022  17    05  \n",
       "290 -0.0775  0.080  2022  17    05  \n",
       "291 -0.0775  0.080  2022  17    05  \n",
       "292 -0.0250  0.060  2022  17    05  \n",
       "293 -0.0100  0.060  2022  17    05  \n",
       "294 -0.0250  0.060  2022  17    05  \n",
       "295 -0.0100  0.060  2022  17    05  \n",
       "296 -0.0775  0.030  2022  17    05  \n",
       "297 -0.0775  0.040  2022  17    05  \n",
       "298 -0.0775  0.040  2022  17    05  \n",
       "299 -0.0775  0.040  2022  17    05  \n",
       "300 -0.0250  0.060  2022  17    05  \n",
       "301 -0.0100  0.005  2022  17    05  \n",
       "302 -0.0250  0.060  2022  17    05  \n",
       "303 -0.0250  0.060  2022  17    05  "
      ]
     },
     "execution_count": 52,
     "metadata": {},
     "output_type": "execute_result"
    }
   ],
   "source": [
    "laster =laster.drop_duplicates(subset=['Terminal Name', 'Product Description'], keep='last')\n",
    "\n",
    "laster"
   ]
  },
  {
   "cell_type": "code",
   "execution_count": 53,
   "metadata": {},
   "outputs": [],
   "source": [
    "marathon = marathon.append(prev)\n",
    "marathon['Time'] = marathon['Time'].astype(int)"
   ]
  },
  {
   "cell_type": "code",
   "execution_count": 54,
   "metadata": {},
   "outputs": [],
   "source": [
    "marathon = marathon.sort_values(by=\"Time\",ascending=False)"
   ]
  },
  {
   "cell_type": "code",
   "execution_count": 55,
   "metadata": {},
   "outputs": [],
   "source": [
    "final = pd.merge(invoice, marathon, how=\"left\", on=[\"Terminal Name\", \"Product Description\"])"
   ]
  },
  {
   "cell_type": "code",
   "execution_count": 56,
   "metadata": {},
   "outputs": [],
   "source": [
    "final['Time_x'] = final['Time_x'].astype(float)"
   ]
  },
  {
   "cell_type": "code",
   "execution_count": 57,
   "metadata": {},
   "outputs": [],
   "source": [
    "final = final[final['Time_x']>final['Time_y']]"
   ]
  },
  {
   "cell_type": "code",
   "execution_count": 58,
   "metadata": {},
   "outputs": [],
   "source": [
    "final = final.sort_values(by=['Time_x','Time_y'],ascending = [False, True])"
   ]
  },
  {
   "cell_type": "code",
   "execution_count": 59,
   "metadata": {},
   "outputs": [],
   "source": [
    "final =final.drop_duplicates(subset=['Terminal Name', 'Product Description','Time_x','Billed Quantity'], keep='last')"
   ]
  },
  {
   "cell_type": "code",
   "execution_count": 60,
   "metadata": {},
   "outputs": [],
   "source": [
    "final['Discount2'] = contract"
   ]
  },
  {
   "cell_type": "code",
   "execution_count": 61,
   "metadata": {},
   "outputs": [],
   "source": [
    "final['d1'] = final['d1'].astype(float)\n",
    "final['Price_y'] = final['Price_y'].astype(float)\n",
    "final['Discount2'] = final['Discount2'].astype(float)\n",
    "final['tax'] = final['tax'].astype(float)"
   ]
  },
  {
   "cell_type": "code",
   "execution_count": 62,
   "metadata": {},
   "outputs": [],
   "source": [
    "final['Expected Price'] = final['Price_y'] - final['tax'] - final['Discount2']"
   ]
  },
  {
   "cell_type": "code",
   "execution_count": 63,
   "metadata": {},
   "outputs": [],
   "source": [
    "final['Expected Price'] = final['Expected Price'].astype(float)\n",
    "final['Price_x'] = final['Price_x'].astype(float)"
   ]
  },
  {
   "cell_type": "code",
   "execution_count": 64,
   "metadata": {},
   "outputs": [],
   "source": [
    "final['Price Difference'] = final['Expected Price'] - final['Price_x']"
   ]
  },
  {
   "cell_type": "code",
   "execution_count": 65,
   "metadata": {},
   "outputs": [],
   "source": [
    "final =final.round({'Price Difference': 6})"
   ]
  },
  {
   "cell_type": "code",
   "execution_count": 66,
   "metadata": {},
   "outputs": [
    {
     "name": "stderr",
     "output_type": "stream",
     "text": [
      "C:\\Users\\andrewl\\Continuum\\lib\\site-packages\\pandas\\core\\ops.py:1167: FutureWarning: elementwise comparison failed; returning scalar instead, but in the future will perform elementwise comparison\n",
      "  result = method(y)\n"
     ]
    },
    {
     "ename": "TypeError",
     "evalue": "invalid type comparison",
     "output_type": "error",
     "traceback": [
      "\u001b[1;31m---------------------------------------------------------------------------\u001b[0m",
      "\u001b[1;31mTypeError\u001b[0m                                 Traceback (most recent call last)",
      "\u001b[1;32m<ipython-input-66-98f4a85f0ea8>\u001b[0m in \u001b[0;36m<module>\u001b[1;34m()\u001b[0m\n\u001b[0;32m      3\u001b[0m \u001b[0mfinal\u001b[0m\u001b[1;33m.\u001b[0m\u001b[0mrename\u001b[0m\u001b[1;33m(\u001b[0m\u001b[0mcolumns\u001b[0m \u001b[1;33m=\u001b[0m \u001b[1;33m{\u001b[0m\u001b[1;34m'Time_x'\u001b[0m\u001b[1;33m:\u001b[0m\u001b[1;34m'Time Fueled'\u001b[0m\u001b[1;33m,\u001b[0m \u001b[1;34m'Time_y'\u001b[0m\u001b[1;33m:\u001b[0m\u001b[1;34m'Marathon Time'\u001b[0m\u001b[1;33m,\u001b[0m\u001b[1;34m'd1'\u001b[0m\u001b[1;33m:\u001b[0m\u001b[1;34m'Tax'\u001b[0m\u001b[1;33m}\u001b[0m\u001b[1;33m,\u001b[0m \u001b[0minplace\u001b[0m \u001b[1;33m=\u001b[0m \u001b[1;32mTrue\u001b[0m\u001b[1;33m)\u001b[0m\u001b[1;33m\u001b[0m\u001b[0m\n\u001b[0;32m      4\u001b[0m \u001b[0mfinal\u001b[0m\u001b[1;33m.\u001b[0m\u001b[0mrename\u001b[0m\u001b[1;33m(\u001b[0m\u001b[0mcolumns\u001b[0m \u001b[1;33m=\u001b[0m \u001b[1;33m{\u001b[0m\u001b[1;34m'Date_x'\u001b[0m\u001b[1;33m:\u001b[0m\u001b[1;34m'Date Fueled'\u001b[0m\u001b[1;33m,\u001b[0m \u001b[1;34m'Date_y'\u001b[0m\u001b[1;33m:\u001b[0m\u001b[1;34m'Marathon Date'\u001b[0m\u001b[1;33m}\u001b[0m\u001b[1;33m,\u001b[0m \u001b[0minplace\u001b[0m \u001b[1;33m=\u001b[0m \u001b[1;32mTrue\u001b[0m\u001b[1;33m)\u001b[0m\u001b[1;33m\u001b[0m\u001b[0m\n\u001b[1;32m----> 5\u001b[1;33m \u001b[0mfinal\u001b[0m \u001b[1;33m=\u001b[0m \u001b[0mfinal\u001b[0m\u001b[1;33m[\u001b[0m\u001b[0mfinal\u001b[0m\u001b[1;33m[\u001b[0m\u001b[1;34m'SCAC'\u001b[0m\u001b[1;33m]\u001b[0m \u001b[1;33m!=\u001b[0m \u001b[1;34m'JUDB'\u001b[0m\u001b[1;33m]\u001b[0m\u001b[1;33m\u001b[0m\u001b[0m\n\u001b[0m",
      "\u001b[1;32mC:\\Users\\andrewl\\Continuum\\lib\\site-packages\\pandas\\core\\ops.py\u001b[0m in \u001b[0;36mwrapper\u001b[1;34m(self, other, axis)\u001b[0m\n\u001b[0;32m   1281\u001b[0m \u001b[1;33m\u001b[0m\u001b[0m\n\u001b[0;32m   1282\u001b[0m             \u001b[1;32mwith\u001b[0m \u001b[0mnp\u001b[0m\u001b[1;33m.\u001b[0m\u001b[0merrstate\u001b[0m\u001b[1;33m(\u001b[0m\u001b[0mall\u001b[0m\u001b[1;33m=\u001b[0m\u001b[1;34m'ignore'\u001b[0m\u001b[1;33m)\u001b[0m\u001b[1;33m:\u001b[0m\u001b[1;33m\u001b[0m\u001b[0m\n\u001b[1;32m-> 1283\u001b[1;33m                 \u001b[0mres\u001b[0m \u001b[1;33m=\u001b[0m \u001b[0mna_op\u001b[0m\u001b[1;33m(\u001b[0m\u001b[0mvalues\u001b[0m\u001b[1;33m,\u001b[0m \u001b[0mother\u001b[0m\u001b[1;33m)\u001b[0m\u001b[1;33m\u001b[0m\u001b[0m\n\u001b[0m\u001b[0;32m   1284\u001b[0m             \u001b[1;32mif\u001b[0m \u001b[0mis_scalar\u001b[0m\u001b[1;33m(\u001b[0m\u001b[0mres\u001b[0m\u001b[1;33m)\u001b[0m\u001b[1;33m:\u001b[0m\u001b[1;33m\u001b[0m\u001b[0m\n\u001b[0;32m   1285\u001b[0m                 raise TypeError('Could not compare {typ} type with Series'\n",
      "\u001b[1;32mC:\\Users\\andrewl\\Continuum\\lib\\site-packages\\pandas\\core\\ops.py\u001b[0m in \u001b[0;36mna_op\u001b[1;34m(x, y)\u001b[0m\n\u001b[0;32m   1167\u001b[0m                     \u001b[0mresult\u001b[0m \u001b[1;33m=\u001b[0m \u001b[0mmethod\u001b[0m\u001b[1;33m(\u001b[0m\u001b[0my\u001b[0m\u001b[1;33m)\u001b[0m\u001b[1;33m\u001b[0m\u001b[0m\n\u001b[0;32m   1168\u001b[0m                 \u001b[1;32mif\u001b[0m \u001b[0mresult\u001b[0m \u001b[1;32mis\u001b[0m \u001b[0mNotImplemented\u001b[0m\u001b[1;33m:\u001b[0m\u001b[1;33m\u001b[0m\u001b[0m\n\u001b[1;32m-> 1169\u001b[1;33m                     \u001b[1;32mraise\u001b[0m \u001b[0mTypeError\u001b[0m\u001b[1;33m(\u001b[0m\u001b[1;34m\"invalid type comparison\"\u001b[0m\u001b[1;33m)\u001b[0m\u001b[1;33m\u001b[0m\u001b[0m\n\u001b[0m\u001b[0;32m   1170\u001b[0m             \u001b[1;32melse\u001b[0m\u001b[1;33m:\u001b[0m\u001b[1;33m\u001b[0m\u001b[0m\n\u001b[0;32m   1171\u001b[0m                 \u001b[0mresult\u001b[0m \u001b[1;33m=\u001b[0m \u001b[0mop\u001b[0m\u001b[1;33m(\u001b[0m\u001b[0mx\u001b[0m\u001b[1;33m,\u001b[0m \u001b[0my\u001b[0m\u001b[1;33m)\u001b[0m\u001b[1;33m\u001b[0m\u001b[0m\n",
      "\u001b[1;31mTypeError\u001b[0m: invalid type comparison"
     ]
    }
   ],
   "source": [
    "final.rename(columns = {'Price_x':'Billed Price', 'Price_y':'Marathon Price'}, inplace = True)\n",
    "final.rename(columns = {'Price_x':'Billed Price', 'tax':'Contract'}, inplace = True)\n",
    "final.rename(columns = {'Time_x':'Time Fueled', 'Time_y':'Marathon Time','d1':'Tax'}, inplace = True)\n",
    "final.rename(columns = {'Date_x':'Date Fueled', 'Date_y':'Marathon Date'}, inplace = True)\n",
    "final = final[final['SCAC'] != 'JUDB']\n"
   ]
  },
  {
   "cell_type": "code",
   "execution_count": null,
   "metadata": {},
   "outputs": [],
   "source": [
    "#IGNORE THIS FUTURE PROJECT MAYBE\n",
    "laster.filter(items=[\"Terminal Name\",\"Marathon Time\",\"Marathon Price\"]).head()"
   ]
  },
  {
   "cell_type": "code",
   "execution_count": null,
   "metadata": {},
   "outputs": [],
   "source": [
    "final = final[['Invoice Number','Terminal Name','Product Description','Time Fueled','Marathon Time','Billed Price','Contract','Discount2','Marathon Price','Expected Price','Price Difference']]"
   ]
  },
  {
   "cell_type": "code",
   "execution_count": null,
   "metadata": {},
   "outputs": [],
   "source": [
    "finder = final"
   ]
  },
  {
   "cell_type": "code",
   "execution_count": null,
   "metadata": {},
   "outputs": [],
   "source": [
    "final = final.style.applymap(color_negative_red, subset=['Expected Price','Billed Price','Price Difference'])"
   ]
  },
  {
   "cell_type": "code",
   "execution_count": null,
   "metadata": {},
   "outputs": [],
   "source": [
    "final.to_excel(finalfile, index=False)"
   ]
  }
 ],
 "metadata": {
  "kernelspec": {
   "display_name": "Python 3",
   "language": "python",
   "name": "python3"
  },
  "language_info": {
   "codemirror_mode": {
    "name": "ipython",
    "version": 3
   },
   "file_extension": ".py",
   "mimetype": "text/x-python",
   "name": "python",
   "nbconvert_exporter": "python",
   "pygments_lexer": "ipython3",
   "version": "3.7.0"
  }
 },
 "nbformat": 4,
 "nbformat_minor": 2
}
