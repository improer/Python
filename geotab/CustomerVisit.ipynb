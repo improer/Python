{
 "cells": [
  {
   "cell_type": "code",
   "execution_count": null,
   "metadata": {},
   "outputs": [],
   "source": [
    "import pandas as pd\n",
    "import numpy as np\n",
    "import csv\n",
    "import xlsxwriter\n",
    "from csv import reader, writer\n",
    "from openpyxl import Workbook\n",
    "import datetime as dt"
   ]
  },
  {
   "cell_type": "code",
   "execution_count": null,
   "metadata": {},
   "outputs": [],
   "source": [
    "#Import mobile route info\n",
    "cs2 = \"z_MAY_ROUTES.csv\"\n",
    "mobile = pd.read_csv(cs2)\n",
    "#mobile.head(2)"
   ]
  },
  {
   "cell_type": "code",
   "execution_count": null,
   "metadata": {},
   "outputs": [],
   "source": [
    "#Zones & Messages > Customer Visits > Select All assets > View by Asset\n",
    "#Pull Details Advanced Report\n",
    "#Unhide Data Tab\n",
    "#Delete header info from Data tab\n",
    "#Change column Q duration to 00:00:00 Time format\n",
    "#Save as CSV\n",
    "cs1 = \"customer_visitsz.csv\"\n",
    "df = pd.read_csv(cs1)\n",
    "#df.head(2)"
   ]
  },
  {
   "cell_type": "code",
   "execution_count": null,
   "metadata": {},
   "outputs": [],
   "source": [
    "df2 = df.drop(columns=['.Device.DeviceId', '.Device.DeviceComment', '.Device.DeviceGroup', '.Driver.UserFirstName', '.Driver.UserLastName', '.Driver.UserId', '.Driver.UserComment', '.Driver.DriverGroup', '.ExceptionRule.ExceptionRuleId', '.ExceptionRule.ExceptionRuleComment', '.StopZone.ZoneZoneTypes', 'ExceptionDetailLongitude', 'ExceptionDetailLatitude'])\n",
    "#df2.head(2)"
   ]
  },
  {
   "cell_type": "code",
   "execution_count": null,
   "metadata": {},
   "outputs": [],
   "source": [
    "df2.rename({'.Device.DeviceName':'truck', '.Driver.UserName':'driver', '.ExceptionRule.ExceptionRuleName':'zone', '.StopZone.ZoneExternalReference':'ship_to', 'ExceptionTripDistance':'distance', 'ExceptionDetailStartTime':'arrived', 'ExceptionDuration':'duration'},axis =1, inplace = True)\n",
    "#df2.head(1)"
   ]
  },
  {
   "cell_type": "code",
   "execution_count": null,
   "metadata": {},
   "outputs": [],
   "source": [
    "df2['date'] = pd.to_datetime(df2['arrived']).dt.date\n",
    "#df2.head()"
   ]
  },
  {
   "cell_type": "code",
   "execution_count": null,
   "metadata": {},
   "outputs": [],
   "source": [
    "df3 = df2.drop(columns=['arrived'])\n",
    "#df3.head(2)"
   ]
  },
  {
   "cell_type": "code",
   "execution_count": null,
   "metadata": {},
   "outputs": [],
   "source": [
    "df3['duration'] = pd.to_timedelta(df3['duration'])\n",
    "#df3.head(2)"
   ]
  },
  {
   "cell_type": "code",
   "execution_count": null,
   "metadata": {},
   "outputs": [],
   "source": [
    "df3['day_hours'] = df3['duration'].dt.days * 24\n",
    "#df3.head()"
   ]
  },
  {
   "cell_type": "code",
   "execution_count": null,
   "metadata": {},
   "outputs": [],
   "source": [
    "df3['hours'] = df3['duration'].dt.components['hours']\n",
    "#df3.head()"
   ]
  },
  {
   "cell_type": "code",
   "execution_count": null,
   "metadata": {},
   "outputs": [],
   "source": [
    "df3['minutes'] = df3['duration'].dt.components['minutes'] / 60\n",
    "#df3.head()"
   ]
  },
  {
   "cell_type": "code",
   "execution_count": null,
   "metadata": {},
   "outputs": [],
   "source": [
    "df3['total_hours'] = df3['day_hours'] + df3['hours'] + df3['minutes']\n",
    "#df3.head()"
   ]
  },
  {
   "cell_type": "code",
   "execution_count": null,
   "metadata": {},
   "outputs": [],
   "source": [
    "df4 = df3.drop(columns=['duration', 'day_hours', 'hours', 'minutes'])\n",
    "#df4.head(2)"
   ]
  },
  {
   "cell_type": "code",
   "execution_count": null,
   "metadata": {},
   "outputs": [],
   "source": [
    "df5 = df4.groupby(['date', 'ship_to', 'zone', 'driver', 'truck'], as_index = False).sum()\n",
    "#df5.head(10)"
   ]
  },
  {
   "cell_type": "code",
   "execution_count": null,
   "metadata": {},
   "outputs": [],
   "source": [
    "#df4.to_csv(\"customer_visit_detail.csv\", header=True, index=False)"
   ]
  },
  {
   "cell_type": "code",
   "execution_count": null,
   "metadata": {},
   "outputs": [],
   "source": []
  },
  {
   "cell_type": "markdown",
   "metadata": {},
   "source": [
    "# ----------"
   ]
  },
  {
   "cell_type": "markdown",
   "metadata": {},
   "source": [
    "## Summary"
   ]
  },
  {
   "cell_type": "code",
   "execution_count": null,
   "metadata": {},
   "outputs": [],
   "source": [
    "summary = df5.groupby(['ship_to', 'zone']).agg({'distance':['mean', 'min', 'max'], 'total_hours':['mean', 'min', 'max']})\n",
    "#summary.head(10)"
   ]
  },
  {
   "cell_type": "code",
   "execution_count": null,
   "metadata": {},
   "outputs": [],
   "source": [
    "#summary.to_csv(\"customer_summary.csv\")"
   ]
  },
  {
   "cell_type": "code",
   "execution_count": null,
   "metadata": {},
   "outputs": [],
   "source": [
    "with pd.ExcelWriter('customer_visits.xlsx', engine='xlsxwriter') as writer:    \n",
    "    #Write each dataframe to a different worksheet.\n",
    "    df4.to_excel(writer, sheet_name='Customer Visit Detail', header=True, index=False)\n",
    "    summary.to_excel(writer, sheet_name='Customer Visit Summary', header=True, index=True)"
   ]
  },
  {
   "cell_type": "code",
   "execution_count": null,
   "metadata": {},
   "outputs": [],
   "source": []
  },
  {
   "cell_type": "markdown",
   "metadata": {},
   "source": [
    "# --------------"
   ]
  },
  {
   "cell_type": "markdown",
   "metadata": {},
   "source": [
    "## Merge GeoTab and SLX/Trinium info"
   ]
  },
  {
   "cell_type": "code",
   "execution_count": null,
   "metadata": {},
   "outputs": [],
   "source": [
    "#mobile.head(1)"
   ]
  },
  {
   "cell_type": "code",
   "execution_count": null,
   "metadata": {},
   "outputs": [],
   "source": [
    "mobile2 = mobile.drop(columns=['type', 'total_time', 'paylocity_time'])\n",
    "#mobile2.head(1)"
   ]
  },
  {
   "cell_type": "code",
   "execution_count": null,
   "metadata": {},
   "outputs": [],
   "source": [
    "mobile3 = mobile2.rename(columns={'shift_date':'date', 'id':'slx_id', 'driver':'slx_driver'})\n",
    "#mobile3.head(1)"
   ]
  },
  {
   "cell_type": "code",
   "execution_count": null,
   "metadata": {},
   "outputs": [],
   "source": [
    "mobile3['date'] = pd.to_datetime(mobile3['date']).dt.date\n",
    "#mobile3.head(2)"
   ]
  },
  {
   "cell_type": "code",
   "execution_count": null,
   "metadata": {},
   "outputs": [],
   "source": [
    "merged = pd.merge(mobile3, df5, on=['date', 'ship_to', 'truck'], how='left')\n",
    "merged.head()"
   ]
  },
  {
   "cell_type": "code",
   "execution_count": null,
   "metadata": {},
   "outputs": [],
   "source": [
    "#Drop service trucks\n",
    "merged2 = merged[~merged.truck.str.contains('Service')]\n",
    "merged2.head()"
   ]
  },
  {
   "cell_type": "code",
   "execution_count": null,
   "metadata": {},
   "outputs": [],
   "source": [
    "#Drop internal sites\n",
    "merged3 = merged2[~merged2.ship_to.str.startswith('10000')]\n",
    "#merged3.head(2)"
   ]
  },
  {
   "cell_type": "code",
   "execution_count": null,
   "metadata": {},
   "outputs": [],
   "source": [
    "merged4 = merged3[merged3['slx_id'].notna()]\n",
    "#merged4.head()"
   ]
  },
  {
   "cell_type": "code",
   "execution_count": null,
   "metadata": {},
   "outputs": [],
   "source": [
    "merged4['profit_per_hour'] = merged4['profit']/merged4['total_hours']\n",
    "#merged4.head(3)\n"
   ]
  },
  {
   "cell_type": "code",
   "execution_count": null,
   "metadata": {},
   "outputs": [],
   "source": [
    "smart = merged4.groupby(['ship_to', 'zone']).agg({'ship_to':['count'],'distance':['min','mean', 'max'],'profit_per_hour':['min','mean', 'max'],'margin':['min','mean', 'max'],'gallons':['min','mean', 'max'], 'total_hours':['min','mean', 'max']})\n",
    "#smart.head(10)"
   ]
  },
  {
   "cell_type": "code",
   "execution_count": null,
   "metadata": {},
   "outputs": [],
   "source": [
    "with pd.ExcelWriter('Geotab_SLX_Report.xlsx', engine='xlsxwriter') as writer:    \n",
    "    #Write each dataframe to a different worksheet.\n",
    "    merged4.to_excel(writer, sheet_name='Smartlogix Detailed Report', header=True, index=True)\n",
    "    smart.to_excel(writer, sheet_name='Averages', header=True, index= True)"
   ]
  },
  {
   "cell_type": "code",
   "execution_count": null,
   "metadata": {},
   "outputs": [],
   "source": []
  },
  {
   "cell_type": "code",
   "execution_count": null,
   "metadata": {},
   "outputs": [],
   "source": [
    "merged4.to_csv(\"fxz.csv\", header=True, index=False)"
   ]
  },
  {
   "cell_type": "code",
   "execution_count": null,
   "metadata": {},
   "outputs": [],
   "source": []
  }
 ],
 "metadata": {
  "kernelspec": {
   "display_name": "Python 3",
   "language": "python",
   "name": "python3"
  },
  "language_info": {
   "codemirror_mode": {
    "name": "ipython",
    "version": 3
   },
   "file_extension": ".py",
   "mimetype": "text/x-python",
   "name": "python",
   "nbconvert_exporter": "python",
   "pygments_lexer": "ipython3",
   "version": "3.7.0"
  }
 },
 "nbformat": 4,
 "nbformat_minor": 2
}
