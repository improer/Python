{
 "cells": [
  {
   "cell_type": "code",
   "execution_count": null,
   "metadata": {},
   "outputs": [],
   "source": [
    "import numpy as np\n",
    "import pandas as pd\n"
   ]
  },
  {
   "cell_type": "code",
   "execution_count": null,
   "metadata": {},
   "outputs": [],
   "source": [
    "def color_negative_red(value):\n",
    "    if value < 0:\n",
    "        color = 'red'\n",
    "    elif value > 0:\n",
    "        color = 'green'\n",
    "    else:\n",
    "        color = 'black'\n",
    "\n",
    "    return 'color: %s' % color"
   ]
  },
  {
   "cell_type": "code",
   "execution_count": null,
   "metadata": {},
   "outputs": [],
   "source": [
    "def highlight_cols(x):\n",
    "      \n",
    "    # copy df to new - original data is not changed\n",
    "    df = x.copy()\n",
    "      \n",
    "    # select all values to yellow color\n",
    "    df.loc[:, :] = 'background-color: yellow'\n",
    "      \n",
    "    # return color df\n",
    "    return df "
   ]
  },
  {
   "cell_type": "code",
   "execution_count": null,
   "metadata": {},
   "outputs": [],
   "source": [
    "gross = pd.read_csv('vendors.csv')\n",
    "pricediff = pd.read_csv('vendors.csv')\n",
    "diff = pd.read_csv('vendors.csv')\n"
   ]
  },
  {
   "cell_type": "code",
   "execution_count": null,
   "metadata": {},
   "outputs": [],
   "source": [
    "gross['Loc']= gross['Loc'].str.upper()\n",
    "gross = gross.groupby(['Vendor Name','Loc']).agg({'Net Quantity':['sum'],'Gross Quantity':['sum'],'Extended Price':['sum','count']})\n"
   ]
  },
  {
   "cell_type": "code",
   "execution_count": null,
   "metadata": {},
   "outputs": [],
   "source": [
    "#####################################################################################################"
   ]
  },
  {
   "cell_type": "code",
   "execution_count": null,
   "metadata": {},
   "outputs": [],
   "source": [
    "pricediff['Loc']= pricediff['Loc'].str.upper()\n",
    "diff['Loc']= diff['Loc'].str.upper()\n",
    "pricediff = pricediff.groupby(by=[\"Product\",\"TranDate\",\"Loc\"],as_index=False).min()"
   ]
  },
  {
   "cell_type": "code",
   "execution_count": null,
   "metadata": {},
   "outputs": [],
   "source": [
    "pricediff.drop([\"Vendor\",\"Container\",\"Bol or Inv Num\",\"Net Quantity\",\"Gross Quantity\",\"Freight\",\"Extended Price\",\"Taxes\"], axis = 1, inplace = True)"
   ]
  },
  {
   "cell_type": "code",
   "execution_count": null,
   "metadata": {},
   "outputs": [],
   "source": [
    "pricediff.columns.values[3] = 'Low Vendor'\n",
    "#pricediff.columns.values[3] = 'Low Loc'\n",
    "pricediff.columns.values[4] = 'Low Price'"
   ]
  },
  {
   "cell_type": "code",
   "execution_count": null,
   "metadata": {},
   "outputs": [],
   "source": [
    "coun = result"
   ]
  },
  {
   "cell_type": "code",
   "execution_count": null,
   "metadata": {},
   "outputs": [],
   "source": [
    "result = pd.merge(diff, pricediff, on=[\"Product\", \"TranDate\",\"Loc\"], how=\"right\")"
   ]
  },
  {
   "cell_type": "code",
   "execution_count": null,
   "metadata": {},
   "outputs": [],
   "source": [
    "result['Price Difference'] = -(result['Gross Price'] - result['Low Price'])\n",
    "result['Loss'] = (result['Price Difference'] * result['Gross Quantity'])"
   ]
  },
  {
   "cell_type": "code",
   "execution_count": null,
   "metadata": {},
   "outputs": [],
   "source": [
    "result.loc['Loss']= result.sum(numeric_only=True, axis=0)\n",
    "\n"
   ]
  },
  {
   "cell_type": "code",
   "execution_count": null,
   "metadata": {},
   "outputs": [],
   "source": [
    "final = result.style.applymap(color_negative_red, subset=['Price Difference','Gross Price','Low Price'])"
   ]
  },
  {
   "cell_type": "code",
   "execution_count": null,
   "metadata": {},
   "outputs": [],
   "source": [
    "######################################################################################################\n"
   ]
  },
  {
   "cell_type": "code",
   "execution_count": null,
   "metadata": {},
   "outputs": [],
   "source": [
    "writer2 = pd.ExcelWriter('Vendor_Summary.xlsx')"
   ]
  },
  {
   "cell_type": "code",
   "execution_count": null,
   "metadata": {},
   "outputs": [],
   "source": [
    "final.to_excel(writer2, sheet_name = 'Gross Price', index = True)\n",
    "gross.to_excel(writer2, sheet_name = 'Gross Quantity', index = True)\n",
    "writer2.save()"
   ]
  },
  {
   "cell_type": "code",
   "execution_count": null,
   "metadata": {},
   "outputs": [],
   "source": []
  },
  {
   "cell_type": "code",
   "execution_count": null,
   "metadata": {},
   "outputs": [],
   "source": []
  }
 ],
 "metadata": {
  "kernelspec": {
   "display_name": "Python 3",
   "language": "python",
   "name": "python3"
  },
  "language_info": {
   "codemirror_mode": {
    "name": "ipython",
    "version": 3
   },
   "file_extension": ".py",
   "mimetype": "text/x-python",
   "name": "python",
   "nbconvert_exporter": "python",
   "pygments_lexer": "ipython3",
   "version": "3.7.0"
  }
 },
 "nbformat": 4,
 "nbformat_minor": 2
}
